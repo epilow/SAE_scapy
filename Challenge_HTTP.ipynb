{
 "cells": [
  {
   "cell_type": "markdown",
   "id": "a6241ba9-0bb2-4643-889c-332a04cb0b4c",
   "metadata": {},
   "source": [
    "# Challenge HTTP"
   ]
  },
  {
   "cell_type": "markdown",
   "id": "0fc479f7-817a-48e0-948a-11511554bde6",
   "metadata": {},
   "source": [
    "Ce challenge a pour but d'analysée et comprendre les trames **HTTP** lors d'une connexion.\n",
    "\n",
    "Pour commencer, comme pour les challenges précédent, on importe la librairie \"Scapy\" qui sera uttile pour les programmes Python."
   ]
  },
  {
   "cell_type": "code",
   "execution_count": 10,
   "id": "ba8df2e6-325a-47b1-9d87-d83c834e3b7e",
   "metadata": {},
   "outputs": [],
   "source": [
    "from scapy.all import *\n",
    "http = rdpcap(\"www-total.pcapng\")"
   ]
  },
  {
   "cell_type": "markdown",
   "id": "f39a4cc3-ab56-4136-8e96-e7262aa0e711",
   "metadata": {},
   "source": [
    "## Introduction au HTTP"
   ]
  },
  {
   "cell_type": "markdown",
   "id": "8b9b0d5b-7c5e-446d-8c1f-de12f3de669f",
   "metadata": {},
   "source": [
    "Comme pour les trames FTP et Telnet, Wireshark n'affiche pas toute les trames HTTP avec le nom \"HTTP\". Certaines sont afficher en TCP comme les SYN, SYN/ACK, ACK et FIN.\n",
    "\n",
    "On doit donc récupérer toute les trames qui uttilise le port HTTP, soit ici le port par défault : **80**.\n",
    "\n",
    "La commande est donc la suivante : `tcp.port == 80 || http`\n",
    "\n",
    "![Trames](https://i.ibb.co/ksx0ckvM/Capture-d-cran-2025-06-01-010438.png)"
   ]
  },
  {
   "cell_type": "markdown",
   "id": "ec51440f-1150-4e7a-8fc3-b5871675d9fe",
   "metadata": {},
   "source": [
    "## Observation des trames"
   ]
  },
  {
   "cell_type": "markdown",
   "id": "1b61ec50-e1ad-4f79-9137-dda585e2a669",
   "metadata": {},
   "source": [
    "Lorsque l'on regarde la capture, on obtient plein d'information comme notament l'ip du serveur (**10.2.12.4**) ou aussi l'ip du client (**10.2.4.3**).\n",
    "\n",
    "On peut aussi obtenir des informations comme le login et le mot de passe de la connexion **HTTP**. Ils apparaîsent Dans la ligne \"*Authorization: Basic*\", plus précisément dans la sous-trames \"*Credentials*\" (appelée **Headers HTTP**) de la partie **HTTP** des trames.\n",
    "\n",
    "![](https://i.ibb.co/FkFr3qfy/Capture-d-cran-2025-06-01-001335.png)\n",
    "\n"
   ]
  },
  {
   "cell_type": "markdown",
   "id": "52f84edb-e64a-4e23-8f34-5b351366c2a7",
   "metadata": {},
   "source": [
    "## Script Python"
   ]
  },
  {
   "cell_type": "code",
   "execution_count": 35,
   "id": "7bce04c3-157e-424f-a507-348ae997c3da",
   "metadata": {},
   "outputs": [
    {
     "name": "stdout",
     "output_type": "stream",
     "text": [
      "Login : donald\n",
      "Mot de passe : P0utine\n"
     ]
    }
   ],
   "source": [
    "def http_pcapng(packets):\n",
    "    for pkt in packets:\n",
    "        # On s'assure que le paquet contient les couches IP, TCP et Raw (payload)\n",
    "        if pkt.haslayer(IP) and pkt.haslayer(TCP) and pkt.haslayer(Raw):\n",
    "            payload = pkt[Raw].load.decode('utf-8', errors='ignore')\n",
    "            # On cherche dans le payload la ligne Authorization: Basic ...\n",
    "            for line in payload.split('\\r\\n'):\n",
    "                if line.lower().startswith('authorization: basic '):\n",
    "                    # Extraction de la chaîne base64\n",
    "                    b64_credentials = line.split(' ', 2)[2]\n",
    "                    try:\n",
    "                        decoded_bytes = base64.b64decode(b64_credentials)\n",
    "                        decoded_str = decoded_bytes.decode('utf-8', errors='ignore')\n",
    "                        # login:password\n",
    "                        if ':' in decoded_str:\n",
    "                            login, password = decoded_str.split(':', 1)\n",
    "                            print(f\"Login : {login}\")\n",
    "                            print(f\"Mot de passe : {password}\")\n",
    "                            return\n",
    "                    except Exception as e:\n",
    "                        print(f\"Erreur décodage : {e}\")\n",
    "                        continue\n",
    "\n",
    "http_pcapng(http)"
   ]
  },
  {
   "cell_type": "markdown",
   "id": "b5fa1319-3a99-4512-9115-40d41edf69a5",
   "metadata": {},
   "source": [
    "Le code analyse chaque paquet du fichier, si celui ci est un **HTTP** alors il continue son analyse. Il regarde si dans la data il a une ligne nomée \"*Authorization: Basic*\". Si c'est le cas, alors il vas décodée la ligne suivante et récupérée le login et le mot-de-passe (Contenu dans le \"*Credentials: login:mdp*\").\n",
    "\n",
    "Voici maintenant le script sniffer **HTTP** qui fonctionne de la même mannière que le précédent."
   ]
  },
  {
   "cell_type": "code",
   "execution_count": null,
   "id": "018be13f-15a5-4c4c-855e-3a8bae9b7169",
   "metadata": {},
   "outputs": [],
   "source": [
    "def http_sniffer(pkt):\n",
    "    if pkt.haslayer(TCP) and pkt.haslayer(Raw):\n",
    "        tcp_layer = pkt[TCP]\n",
    "        if tcp_layer.dport == 80 or tcp_layer.sport == 80:  # HTTP traffic\n",
    "            try:\n",
    "                payload = pkt[Raw].load.decode('utf-8', errors='ignore')\n",
    "            except:\n",
    "                return\n",
    "\n",
    "            # Cherche le header Authorization: Basic ...\n",
    "            for line in payload.split('\\r\\n'):\n",
    "                if line.lower().startswith('authorization: basic '):\n",
    "                    b64_credentials = line.split(' ', 2)[2]\n",
    "                    try:\n",
    "                        decoded_bytes = base64.b64decode(b64_credentials)\n",
    "                        decoded_str = decoded_bytes.decode('utf-8', errors='ignore')\n",
    "                        if ':' in decoded_str:\n",
    "                            login, password = decoded_str.split(':', 1)\n",
    "                            print(f\"Login : {login}\")\n",
    "                            print(f\"Mot de passe : {password}\")\n",
    "                    except Exception as e:\n",
    "                        print(f\"Erreur décodage : {e}\")\n",
    "\n",
    "if __name__ == \"__main__\":\n",
    "    print(\"Démarrage du sniffer HTTP ...\")\n",
    "    sniff(filter=\"tcp port 80\", prn=http_sniffer, store=False)"
   ]
  },
  {
   "cell_type": "markdown",
   "id": "22a482bf-d46e-4177-ba63-b56078806250",
   "metadata": {},
   "source": [
    "Voilà pour le **HTTP**"
   ]
  }
 ],
 "metadata": {
  "kernelspec": {
   "display_name": "Python [conda env:base] *",
   "language": "python",
   "name": "conda-base-py"
  },
  "language_info": {
   "codemirror_mode": {
    "name": "ipython",
    "version": 3
   },
   "file_extension": ".py",
   "mimetype": "text/x-python",
   "name": "python",
   "nbconvert_exporter": "python",
   "pygments_lexer": "ipython3",
   "version": "3.12.7"
  }
 },
 "nbformat": 4,
 "nbformat_minor": 5
}
