{
 "cells": [
  {
   "cell_type": "markdown",
   "id": "169dc0b3-f78c-4e57-8e53-320ad8ce6cc1",
   "metadata": {},
   "source": [
    "# Challenge Telnet"
   ]
  },
  {
   "cell_type": "markdown",
   "id": "34c41ac9-c6b9-4745-bcc5-7c6dafdfff74",
   "metadata": {},
   "source": [
    "Ce challenge a pour but d'analysée et comprendre les trames Telnet\n",
    "\n",
    "Pour commencer, comme pour le challenge précédent on importe bien évidemment la librairie \"Scapy\" qui serra uttile pour les programmes Python."
   ]
  },
  {
   "cell_type": "code",
   "execution_count": 1,
   "id": "e1507de0-9fe7-4cd3-b9c8-bd258c8ce716",
   "metadata": {},
   "outputs": [],
   "source": [
    "from scapy.all import *\n",
    "telnet = rdpcap(\"telnet-total.pcapng\")"
   ]
  },
  {
   "cell_type": "markdown",
   "id": "2975468f-e551-4519-bd2d-5da00076b710",
   "metadata": {},
   "source": [
    "## Introduction au Telnet"
   ]
  },
  {
   "cell_type": "markdown",
   "id": "a1c22d6d-d6cb-44c4-ad6b-ec31d01730e6",
   "metadata": {},
   "source": [
    "Comme pour les trames FTP, Wireshark n'affiche pas toute les trames Telnet avec le nom \"Telnet\". Certaines sont afficher en TCP comme les SYN, SYN/ACK, ACK et FIN.\n",
    "\n",
    "On doit donc récupérer toute les trames qui uttilise le port Telnet, soit le 23.\n",
    "\n",
    "La commande est donc la suivante : `tcp.port == 23 || telnet`\n",
    "\n",
    "![](https://i.ibb.co/CswFWMy9/Capture-d-cran-2025-06-01-010105.png)"
   ]
  },
  {
   "cell_type": "markdown",
   "id": "ce0ef120-ee12-4170-bdee-320f9bd13999",
   "metadata": {},
   "source": [
    "## Observation des trames"
   ]
  },
  {
   "cell_type": "markdown",
   "id": "2767985f-2f6f-4933-b176-5c010c6e72e0",
   "metadata": {},
   "source": [
    "Telnet fonctionne différament du FTP, ici on a pas de requêtes applicative qui nous donne a quoi correspond chaque action.\n",
    "\n",
    "Lorsque l'on regarde la capture, on obtient plein d'information comme notament l'ip du serveur (**10.2.12.16**) ou aussi l'ip du client (**10.2.4.3**).\n",
    "\n",
    "On peut aussi obtenir des informations sensibles en clair comme le login et mot de passe. Ce ci sont envoyée lettre par lettre car la manière dont fonctionne le telnet est que dès que l'uttilisateur tape un carractère pour le login, celui-ci est directement envoyée au serveur qui lui répond cette lettre comme une manière de lui dire qu'il a bien reçu son information.\n",
    "Pour le mot-de-passe le serveur lui envoie juste un ACK pour lui prouver qu'il a bien reçu pour pas que le mot-de-passe soit récupérée \n",
    "\n",
    "Ainsi on peut obtenir ceci :\n",
    "\n",
    "`login: marie`\n",
    "\n",
    "`Password: popins`\n",
    "\n",
    "Juste après son login l'uttilisateur reçoit certaine données du serveur comme la dernière connexion.\n",
    "\n",
    "De plus, l'uttilisateur vas réalisée quelque commande après sa connexion. Les voici :\n",
    "\n",
    "`ls -al`\n",
    "`cat toto`\n",
    "`exit`\n",
    "\n",
    "Pour les deux première commande, celle-ci sont des commande bassique Linux. `ls - all` vas permettre de voir tout les fichier présent dans la racine sélectionnée et `cat toto` permet d'afficher le contenu du fichier toto.\n",
    "La dernière commande `exit` vas arrêter la connexion telnet."
   ]
  },
  {
   "cell_type": "markdown",
   "id": "c1ca1f7c-18de-4899-99d3-9c8261750df2",
   "metadata": {},
   "source": [
    "## Script Python"
   ]
  },
  {
   "cell_type": "markdown",
   "id": "ecc74fb1-0259-4e48-88f6-753541fe8f5d",
   "metadata": {},
   "source": [
    "Après tout ce que l'on a vu, on peut réalisée un script python qui vas récupérée automatiquement dans un fichier les login et mot-de-passe d'une connexion **Telnet** :"
   ]
  },
  {
   "cell_type": "code",
   "execution_count": 13,
   "id": "e8f720f8-479e-4059-8b8e-31f8b92b98c7",
   "metadata": {},
   "outputs": [
    {
     "name": "stdout",
     "output_type": "stream",
     "text": [
      "Tentative de connexion Telnet\n",
      "Login capturé : marie\n",
      "Mot de passe capturé : poppins\n"
     ]
    }
   ],
   "source": [
    "def telnet_pcapng(packets):\n",
    "    state = \"waiting_login_prompt\"  # états : waiting_login_prompt, reading_login, waiting_password_prompt, reading_password\n",
    "    login_buffer = \"\"\n",
    "    password_buffer = \"\"\n",
    "\n",
    "    for pkt in packets:\n",
    "        if pkt.haslayer(IP) and pkt.haslayer(TCP) and pkt.haslayer(Raw):\n",
    "            payload = pkt[Raw].load.decode(\"utf-8\", errors=\"ignore\")\n",
    "            sport = pkt[TCP].sport\n",
    "            dport = pkt[TCP].dport\n",
    "\n",
    "            # serveur -> client : on cherche les prompts \"login:\" ou \"password:\"\n",
    "            if sport == 23:  \n",
    "                if state == \"waiting_login_prompt\" and \"login:\" in payload.lower():\n",
    "                    print(\"Tentative de connexion Telnet\")\n",
    "                    state = \"reading_login\"\n",
    "                    login_buffer = \"\"\n",
    "\n",
    "                elif state == \"waiting_password_prompt\" and \"password:\" in payload.lower():\n",
    "                    state = \"reading_password\"\n",
    "                    password_buffer = \"\"\n",
    "\n",
    "            # client -> serveur : on récupère le login ou password caractère par caractère\n",
    "            elif dport == 23:\n",
    "                if state == \"reading_login\":\n",
    "                    for c in payload:\n",
    "                        if c in \"\\r\\n\":\n",
    "                            print(f\"Login : {login_buffer}\")\n",
    "                            state = \"waiting_password_prompt\"\n",
    "                            break\n",
    "                        else:\n",
    "                            login_buffer += c\n",
    "\n",
    "                elif state == \"reading_password\":\n",
    "                    for c in payload:\n",
    "                        if c in \"\\r\\n\":\n",
    "                            print(f\"Mot de passe : {password_buffer}\")\n",
    "                            state = \"done\"\n",
    "                            return\n",
    "                        else:\n",
    "                            password_buffer += c\n",
    "\n",
    "telnet_pcapng(telnet)"
   ]
  },
  {
   "cell_type": "markdown",
   "id": "a946c565-00ba-4687-93e6-99019edaf4d2",
   "metadata": {},
   "source": [
    "Le fonctionnement de ce programme est très simple. On regarde toute les trames avec un port source à **23**. Si dans les données envoyée on a un \"*login:*\" alors on lis tout ce que le client envoie ensuite jusqu'à ce qu'il confirme son login, soit jusqu'a ce qu'il appuie sur la touche entrée, en code ce touche s'appelle \"*/r/n*\". On fait en suite la même chose pour le mot-de-passe est l'on récupérée donc notre login et mot-de-passe comme convenue.\n",
    "\n",
    "A partir du code ci-dessus, on peut donc réalisée un programme sniffer qui permet de récupérée login/password d'une connexion **Telnet**."
   ]
  },
  {
   "cell_type": "code",
   "execution_count": null,
   "id": "7e1da7e5-1bfd-4253-9985-91c24470f889",
   "metadata": {},
   "outputs": [],
   "source": [
    "def telnet_sniffer(pkt):\n",
    "    global state, login_buffer, password_buffer\n",
    "\n",
    "    if pkt.haslayer(IP) and pkt.haslayer(TCP) and pkt.haslayer(Raw):\n",
    "        payload = pkt[Raw].load.decode(\"utf-8\", errors=\"ignore\")\n",
    "        src_ip = pkt[IP].src\n",
    "        dst_ip = pkt[IP].dst\n",
    "        sport = pkt[TCP].sport\n",
    "        dport = pkt[TCP].dport\n",
    "\n",
    "        # serveur -> client : prompts\n",
    "        if sport == 23:\n",
    "            if state == \"waiting_login_prompt\" and \"login:\" in payload.lower():\n",
    "                state = \"reading_login\"\n",
    "                login_buffer = \"\"\n",
    "\n",
    "            elif state == \"waiting_password_prompt\" and \"password:\" in payload.lower():\n",
    "                state = \"reading_password\"\n",
    "                password_buffer = \"\"\n",
    "\n",
    "        # client -> serveur : saisie login/mdp\n",
    "        elif dport == 23:\n",
    "            if state == \"reading_login\":\n",
    "                for c in payload:\n",
    "                    if c in \"\\r\\n\":\n",
    "                        print(f\"Login : {login_buffer}\")\n",
    "                        state = \"waiting_password_prompt\"\n",
    "                        break\n",
    "                    else:\n",
    "                        login_buffer += c\n",
    "\n",
    "            elif state == \"reading_password\":\n",
    "                for c in payload:\n",
    "                    if c in \"\\r\\n\":\n",
    "                        print(f\"Mot de passe : {password_buffer}\")\n",
    "                        state = \"done\"\n",
    "                    else:\n",
    "                        password_buffer += c\n",
    "\n",
    "\n",
    "if __name__ == \"__main__\":\n",
    "    state = \"waiting_login_prompt\"\n",
    "    login_buffer = \"\"\n",
    "    password_buffer = \"\"\n",
    "\n",
    "    print(\"Démarrage du sniffer Telnet...\")\n",
    "    sniff(filter=\"tcp port 23\", prn=telnet_sniffer, store=False)"
   ]
  },
  {
   "cell_type": "markdown",
   "id": "b61b585b-da76-4b8a-8fac-d2532a2b4ddb",
   "metadata": {},
   "source": [
    "Voilà pour la partie **Telnet**\n",
    "\n",
    "Il nous reste donc un dernier challenge, celui sur **HTTP**"
   ]
  }
 ],
 "metadata": {
  "kernelspec": {
   "display_name": "Python [conda env:base] *",
   "language": "python",
   "name": "conda-base-py"
  },
  "language_info": {
   "codemirror_mode": {
    "name": "ipython",
    "version": 3
   },
   "file_extension": ".py",
   "mimetype": "text/x-python",
   "name": "python",
   "nbconvert_exporter": "python",
   "pygments_lexer": "ipython3",
   "version": "3.12.7"
  }
 },
 "nbformat": 4,
 "nbformat_minor": 5
}
