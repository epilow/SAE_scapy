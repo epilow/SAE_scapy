{
 "cells": [
  {
   "cell_type": "markdown",
   "metadata": {},
   "source": [
    "<table style=\"width:100%;\">\n",
    "    <tr style=\"display:none\">\n",
    "        <td></td>\n",
    "        <td></td>\n",
    "    </tr>\n",
    "    <tr style=\"height:3em\">\n",
    "        <td style=\"width:20%;align:left\"><img src=\"logo_iutR&T.jpg\"></td>\n",
    "        <td style=\"width:60%;font: bold 2.5em 'Fira Sans', serif;text-align:center\"> SAE 204<br> Projet Intégratif\n",
    "       </td>\n",
    "        <td style=\"width:20%;font: bold 1.3em 'Fira Sans', serif;vertical-align:top;text-align:center\"><br>Documentation<br> <i>Rapport de projet</i></td>\n",
    "    </tr>\n",
    "</table>"
   ]
  },
  {
   "cell_type": "markdown",
   "metadata": {},
   "source": [
    "L'objectif de  ce TP est de résoudre des systèmes linéaires par la méthode de Gauss. On se donne le sytème suivant qui admet une solution unique et qui nous servira d'exemple.\n",
    "\n",
    "$$(S)\\begin{cases}\n",
    "x+2y-5z & =1 \\\\\n",
    "2x+3y+z & =4 \\\\\n",
    "x-y+5z & =6 \\\\\n",
    "\\end{cases}$$\n",
    "\n"
   ]
  },
  {
   "cell_type": "markdown",
   "metadata": {},
   "source": []
  },
  {
   "cell_type": "markdown",
   "metadata": {},
   "source": [
    "\n",
    "\n",
    "Pour la résolution du système d'équations, on passe  par la matrice augmentée qui représente ce système.\n",
    "\n",
    "$$(S)\\begin{pmatrix}\n",
    "1 & 2 & -5  & 1 \\\\\n",
    "2 & 3 & 1 & 4 \\\\\n",
    "1 & -1 & 5 & 6 \\\\\n",
    "\\end{pmatrix}$$\n",
    "\n",
    "\n",
    "Dans toute la suite, on utilisera la bibliothèque `numpy`, disponible par l'alias np.\n",
    "```python\n",
    "import numpy as np\n",
    "```\n",
    "Tester et commenter les lignes suivantes."
   ]
  },
  {
   "cell_type": "code",
   "execution_count": 1,
   "metadata": {},
   "outputs": [
    {
     "name": "stdout",
     "output_type": "stream",
     "text": [
      "[[ 1.  2. -5.  1.]\n",
      " [ 2.  3.  1.  4.]\n",
      " [ 1. -1.  5.  6.]]\n",
      "3.0\n",
      "[2. 3. 1. 4.]\n",
      "[-5.  1.  5.]\n",
      "(3, 4)\n",
      "3\n",
      "4\n",
      "3 2\n"
     ]
    }
   ],
   "source": [
    "import numpy as np\n",
    "\n",
    "M=np.array([[1.0,2,-5,1],[2,3,1,4],[1,-1,5,6]],dtype=float)\n",
    "print(M)\n",
    "print(M[1,1])\n",
    "print(M[1])\n",
    "print(M[:,2])\n",
    "print(M.shape)\n",
    "print(M.shape[0])\n",
    "print(M.shape[1])\n",
    "# Pour échanger le contenu des variables a et b\n",
    "a,b=2,3\n",
    "b,a=a,b\n",
    "print(a,b)"
   ]
  },
  {
   "cell_type": "markdown",
   "metadata": {},
   "source": [
    "\n",
    "### Fonctions utiles\n",
    "\n",
    "1) Ecrire la fonction permutation(M,i1,i2) et vérifier que cette fonction donne les résultats attendus. \n",
    "\n"
   ]
  },
  {
   "cell_type": "code",
   "execution_count": 6,
   "metadata": {},
   "outputs": [
    {
     "name": "stdout",
     "output_type": "stream",
     "text": [
      "[[ 1.  2. -5.  1.]\n",
      " [ 2.  3.  1.  4.]\n",
      " [ 1. -1.  5.  6.]]\n",
      "[[ 1. -1.  5.  6.]\n",
      " [ 2.  3.  1.  4.]\n",
      " [ 1.  2. -5.  1.]]\n"
     ]
    }
   ],
   "source": [
    "def permutation(A,i1,i2):\n",
    "    for a in range(A.shape[1]):\n",
    "        A[i1,a],A[i2,a]=A[i2,a],A[i1,a]\n",
    "    return A\n",
    "   \n",
    "M=np.array([[1.0,2,-5,1],[2,3,1,4],[1,-1,5,6]],dtype=float)\n",
    "print(M)\n",
    "permutation(M,0,2)\n",
    "print(M)\n",
    "    "
   ]
  },
  {
   "cell_type": "markdown",
   "metadata": {},
   "source": [
    "2. Ecrire une fonction dilatation(A,i,k) qui effectue l'opération élémentaire $L_i \\leftarrow k\\times L_i$"
   ]
  },
  {
   "cell_type": "code",
   "execution_count": 8,
   "metadata": {},
   "outputs": [
    {
     "name": "stdout",
     "output_type": "stream",
     "text": [
      "[[  3.   6. -15.   3.]\n",
      " [  2.   3.   1.   4.]\n",
      " [  1.  -1.   5.   6.]]\n"
     ]
    }
   ],
   "source": [
    "def dilatation(A,i,k):\n",
    "    for a in range(A.shape[1]):\n",
    "        A[i,a]=A[i,a]*k\n",
    "    return A\n",
    "\n",
    "M=np.array([[1.0,2,-5,1],[2,3,1,4],[1,-1,5,6]],dtype=float)\n",
    "dilatation(M,0,3)\n",
    "print(M)"
   ]
  },
  {
   "cell_type": "markdown",
   "metadata": {},
   "source": [
    "3. Ecrire une fonction transvection(A,i,j,k) qui effectue l'opération $L_i \\leftarrow L_i+k\\times L_j$"
   ]
  },
  {
   "cell_type": "code",
   "execution_count": 9,
   "metadata": {},
   "outputs": [
    {
     "name": "stdout",
     "output_type": "stream",
     "text": [
      "[[ 1.  2. -5.  1.]\n",
      " [ 2.  3.  1.  4.]\n",
      " [ 1. -1.  5.  6.]]\n",
      "[[ 1.  2. -5.  1.]\n",
      " [ 0. -1. 11.  2.]\n",
      " [ 1. -1.  5.  6.]]\n"
     ]
    }
   ],
   "source": [
    "def transvection(A,i,j,k):\n",
    "    for a in range(A.shape[1]):\n",
    "        A[i,a]=A[i,a]+k*A[j,a]\n",
    "    return A\n",
    "\n",
    "M=np.array([[1.0,2,-5,1],[2,3,1,4],[1,-1,5,6]],dtype=float)\n",
    "print(M)\n",
    "transvection(M,1,0,-2)\n",
    "print(M)"
   ]
  },
  {
   "cell_type": "markdown",
   "metadata": {},
   "source": [
    "4. En utilisant ces fonctions, rendre le sytème échelonné puis mettre des 1 sur la diagonale. En déduire l'ensemble des solutions de ce sytème."
   ]
  },
  {
   "cell_type": "code",
   "execution_count": 18,
   "metadata": {},
   "outputs": [
    {
     "name": "stdout",
     "output_type": "stream",
     "text": [
      "[[ 1.  2. -5.  1.]\n",
      " [ 2.  3.  1.  4.]\n",
      " [ 1. -1.  5.  6.]]\n",
      "[[  1.           2.          -5.           1.        ]\n",
      " [ -0.           1.         -11.          -2.        ]\n",
      " [ -0.          -0.           1.           0.04347826]]\n"
     ]
    }
   ],
   "source": [
    "M=np.array([[1.0,2,-5,1],[2,3,1,4],[1,-1,5,6]],dtype=float)\n",
    "print(M)\n",
    "transvection(M,1,0,-2)\n",
    "transvection(M,2,0,-1)\n",
    "transvection(M,2,1,-3)\n",
    "dilatation(M,1,-1)\n",
    "dilatation(M,2,-1/23)\n",
    "print(M)"
   ]
  },
  {
   "cell_type": "markdown",
   "metadata": {},
   "source": [
    "L'objectif est maintenant de programmer cette recherche de solution par le pivot.\n",
    "\n",
    "### Etape 1 :  Echelonner la matrice\n",
    "\n",
    "1. Ecrire une fonction zeros_bas() qui admet en entrée une matrice M et un entier i et qui renvoie la matrice équivalente M comportant des zéros sous le pivot M[i,i] (on suppose que ce pivot n'est pas nul).  \n",
    "Tester la fonction pour le premier pivot : i = 0.\n",
    "\n"
   ]
  },
  {
   "cell_type": "code",
   "execution_count": 42,
   "metadata": {},
   "outputs": [
    {
     "name": "stdout",
     "output_type": "stream",
     "text": [
      "[[  1.           2.          -5.           1.        ]\n",
      " [ -0.           1.         -11.          -2.        ]\n",
      " [ -0.          -0.           1.           0.04347826]]\n"
     ]
    }
   ],
   "source": [
    "def zero_bas(M,i):\n",
    "    assert M[i,i]!=0\n",
    "    dilatation(M,i,1/M[i,i])\n",
    "    for a in range(i+1,M.shape[0]):\n",
    "        transvection(M,a,i,-M[a,i])\n",
    "    return M\n",
    "\n",
    "M=np.array([[1,2,-5,1],[2,3,1,4],[1,-1,5,6]], dtype=float)\n",
    "zero_bas(M,0)\n",
    "zero_bas(M,1)\n",
    "zero_bas(M,2)\n",
    "\n",
    "print(M)\n"
   ]
  },
  {
   "cell_type": "markdown",
   "metadata": {},
   "source": [
    "2. Ecrire une fonction echelonner() qui admet la matrice M en entrée et renvoie la matrice échelonnée M (cette fonction fait appel à la fonction zeros_bas()).  \n",
    "Tester votre fonction."
   ]
  },
  {
   "cell_type": "code",
   "execution_count": 45,
   "metadata": {},
   "outputs": [
    {
     "name": "stdout",
     "output_type": "stream",
     "text": [
      "[[  1   2  -5   1]\n",
      " [  0   1 -11  -2]\n",
      " [  0   0   1   0]]\n"
     ]
    }
   ],
   "source": [
    "def echelonner(M):\n",
    "    for a in range(M.shape[0]):\n",
    "        zero_bas(M,a)\n",
    "    return M\n",
    "\n",
    "        \n",
    "M=np.array([[1,2,-5,1],[2,3,1,4],[1,-1,5,6]])\n",
    "echelonner(M)\n",
    "print(M)"
   ]
  },
  {
   "cell_type": "markdown",
   "metadata": {},
   "source": [
    "\n",
    "\n",
    "### Etape 2 : Réduire\n",
    "\n",
    "1) Ecrire une fonction zeros_haut() qui admet une matrice  M et un entier i en entrée et renvoie une matrice M avec des zéros sur la colonne au-dessus du pivot M[i,i].\n"
   ]
  },
  {
   "cell_type": "code",
   "execution_count": 1,
   "metadata": {},
   "outputs": [
    {
     "ename": "NameError",
     "evalue": "name 'np' is not defined",
     "output_type": "error",
     "traceback": [
      "\u001b[31m---------------------------------------------------------------------------\u001b[39m",
      "\u001b[31mNameError\u001b[39m                                 Traceback (most recent call last)",
      "\u001b[36mCell\u001b[39m\u001b[36m \u001b[39m\u001b[32mIn[1]\u001b[39m\u001b[32m, line 10\u001b[39m\n\u001b[32m      5\u001b[39m         transvection(M,a,i,-M[a,i])\n\u001b[32m      6\u001b[39m     \u001b[38;5;28;01mreturn\u001b[39;00m M\n\u001b[32m---> \u001b[39m\u001b[32m10\u001b[39m M=\u001b[43mnp\u001b[49m.array([[\u001b[32m1\u001b[39m,\u001b[32m2\u001b[39m,-\u001b[32m5\u001b[39m,\u001b[32m1\u001b[39m],[\u001b[32m2\u001b[39m,\u001b[32m3\u001b[39m,\u001b[32m1\u001b[39m,\u001b[32m4\u001b[39m],[\u001b[32m1\u001b[39m,-\u001b[32m1\u001b[39m,\u001b[32m5\u001b[39m,\u001b[32m6\u001b[39m]],dtype=\u001b[38;5;28mfloat\u001b[39m)\n\u001b[32m     11\u001b[39m zero_haut(M,\u001b[32m2\u001b[39m)\n\u001b[32m     12\u001b[39m \u001b[38;5;28mprint\u001b[39m(M)\n",
      "\u001b[31mNameError\u001b[39m: name 'np' is not defined"
     ]
    }
   ],
   "source": [
    "def zero_haut(M,i):\n",
    "    assert M[i,i]!=0\n",
    "    dilatation(M,i,1/M[i,i])\n",
    "    for a in range(i-1,-1,-1):\n",
    "        transvection(M,a,i,-M[a,i])\n",
    "    return M\n",
    "\n",
    "\n",
    "\n",
    "M=np.array([[1,2,-5,1],[2,3,1,4],[1,-1,5,6]],dtype=float)\n",
    "zero_haut(M,2)\n",
    "print(M)\n"
   ]
  },
  {
   "cell_type": "markdown",
   "metadata": {},
   "source": [
    "2. Ecrire une fonction reduire() qui admet une matrice échelonnée réduite M en entrée et renvoie une matrice M dont la partie gauche est une diagonale de 1.(matrice identité)"
   ]
  },
  {
   "cell_type": "code",
   "execution_count": 75,
   "metadata": {},
   "outputs": [
    {
     "name": "stdout",
     "output_type": "stream",
     "text": [
      "[[ 1.          0.          0.          4.26086957]\n",
      " [ 0.5625      1.          0.          0.875     ]\n",
      " [ 0.2        -0.2         1.          1.2       ]]\n"
     ]
    }
   ],
   "source": [
    "def reduire(M):\n",
    "    for a in range(M.shape[0]-1,-1,-1):\n",
    "        zero_haut(M,a)\n",
    "    return M\n",
    "   \n",
    "\n",
    "M=np.array([[1,2,-5,1],[2,3,1,4],[1,-1,5,6]],dtype=float)  \n",
    "reduire(M)\n",
    "print(M)\n"
   ]
  },
  {
   "cell_type": "markdown",
   "metadata": {},
   "source": [
    "### Conclusion\n",
    "\n",
    "En déduire une fonction pivot() qui applique l'algorithme du pivot à la matrice M et retourne la solution du système."
   ]
  },
  {
   "cell_type": "code",
   "execution_count": 77,
   "metadata": {},
   "outputs": [
    {
     "name": "stdout",
     "output_type": "stream",
     "text": [
      "[[ 1.          0.          0.          4.26086957]\n",
      " [-0.          1.          0.         -1.52173913]\n",
      " [-0.         -0.          1.          0.04347826]]\n"
     ]
    }
   ],
   "source": [
    "\n",
    "def pivot(M):\n",
    "  echelonner(M)\n",
    "  reduire(M)\n",
    "  return M\n",
    "    \n",
    "M=np.array([[1,2,-5,1],[2,3,1,4],[1,-1,5,6]],dtype=float)\n",
    "print(pivot(M))"
   ]
  },
  {
   "cell_type": "markdown",
   "metadata": {},
   "source": [
    "### une fonction native\n",
    "\n",
    "La bibliothèque numpy possède déjà une fonction permettant de résoudre des systèmes linéaires 'linalg.solve'.  \n",
    "Lire la documentation de cette fonction et retrouver le résultat précédent."
   ]
  },
  {
   "cell_type": "code",
   "execution_count": null,
   "metadata": {},
   "outputs": [],
   "source": []
  }
 ],
 "metadata": {
  "interpreter": {
   "hash": "7812ea015bdcee6f23a998adcdd2ef97c151c0c241b7b7070987d9313e41299d"
  },
  "kernelspec": {
   "display_name": "Python 3",
   "language": "python",
   "name": "python3"
  },
  "language_info": {
   "codemirror_mode": {
    "name": "ipython",
    "version": 3
   },
   "file_extension": ".py",
   "mimetype": "text/x-python",
   "name": "python",
   "nbconvert_exporter": "python",
   "pygments_lexer": "ipython3",
   "version": "3.11.9"
  }
 },
 "nbformat": 4,
 "nbformat_minor": 2
}
